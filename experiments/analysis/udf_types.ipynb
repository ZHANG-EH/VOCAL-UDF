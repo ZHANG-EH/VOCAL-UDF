{
 "cells": [
  {
   "cell_type": "code",
   "execution_count": 1,
   "metadata": {},
   "outputs": [],
   "source": [
    "import json\n",
    "import os"
   ]
  },
  {
   "cell_type": "code",
   "execution_count": 24,
   "metadata": {},
   "outputs": [],
   "source": [
    "# open json: /gscratch/balazinska/enhaoz/VOCAL-UDF/outputs/udf_generation/charades/unavailable=2-npred=3-nobj_pred=1-nvars=2-depth=2/num_missing_udfs=2/ninterp=10-nparams=5-kwargs=True-pixels=False-pretrained_models=False-ntrain_distill=500-nselection_samples=500-selection=both-labels=user-budget=50-llm_method=gpt4v/qid=0-run=1.json\n",
    "def main(dataset_with_config_list):\n",
    "    num_dummy, num_program, num_model = 0, 0, 0\n",
    "    dummy_names = []\n",
    "    num_files = 0\n",
    "    for dataset_with_config in dataset_with_config_list:\n",
    "        dir = os.path.join('/gscratch/balazinska/enhaoz/VOCAL-UDF/outputs/udf_generation', dataset_with_config)\n",
    "        for filename in os.listdir(dir):\n",
    "            with open(os.path.join(dir, filename)) as f:\n",
    "                data = json.load(f)\n",
    "            num_files += 1\n",
    "            for udf in data[\"registered_functions\"]:\n",
    "                if \"semantic_interpretation\" in udf:\n",
    "                    if udf[\"semantic_interpretation\"] == \"dummy\":\n",
    "                        num_dummy += 1\n",
    "                        dummy_names.append(udf[\"signature\"].split(\"(\")[0])\n",
    "                    elif udf[\"semantic_interpretation\"] == \"model\":\n",
    "                        num_model += 1\n",
    "                    elif udf[\"function_implementation\"] != \"\":\n",
    "                        num_program += 1\n",
    "                    else:\n",
    "                        raise ValueError(f\"Unknown semantic_interpretation: {udf['semantic_interpretation']}\")\n",
    "    print(f\"num_program={num_program}, num_model={num_model}, num_dummy={num_dummy}, num_files={num_files}\")\n",
    "    num_all = num_dummy + num_program + num_model\n",
    "    print(f\"program percentage: {num_program / num_all:.2f}, model percentage: {num_model / num_all:.2f}, dummy percentage: {num_dummy / num_all:.2f}\")\n",
    "    print(f\"dummy names: {sorted(dummy_names)}\")"
   ]
  },
  {
   "cell_type": "code",
   "execution_count": 25,
   "metadata": {},
   "outputs": [
    {
     "name": "stdout",
     "output_type": "stream",
     "text": [
      "Clevrer\n",
      "num_program=50, num_model=22, num_dummy=6, num_files=28\n",
      "program percentage: 0.64, model percentage: 0.28, dummy percentage: 0.08\n",
      "dummy names: ['material_metal', 'material_metal', 'material_metal', 'material_metal', 'material_metal', 'material_metal']\n",
      "CityFlow\n",
      "num_program=42, num_model=31, num_dummy=5, num_files=40\n",
      "program percentage: 0.54, model percentage: 0.40, dummy percentage: 0.06\n",
      "dummy names: ['black', 'color_blue', 'in_front_of', 'in_front_of', 'left_of']\n",
      "Charades\n",
      "num_program=59, num_model=32, num_dummy=60, num_files=90\n",
      "program percentage: 0.39, model percentage: 0.21, dummy percentage: 0.40\n",
      "dummy names: ['behind', 'behind', 'behind', 'behind', 'behind', 'behind', 'behind', 'behind', 'behind', 'behind', 'behind', 'behind', 'behind', 'behind', 'behind', 'behind', 'behind', 'behind', 'behind', 'carrying', 'carrying', 'carrying', 'carrying', 'carrying', 'carrying', 'carrying', 'eating', 'eating_from', 'holding', 'holding', 'holding', 'holding', 'holding', 'holding', 'holding', 'holding', 'holding', 'inside', 'inside', 'inside', 'inside', 'inside', 'inside', 'inside', 'inside', 'inside', 'inside', 'inside', 'inside', 'inside', 'inside', 'inside', 'inside', 'inside', 'inside', 'inside_of', 'inside_of', 'inside_of', 'moves_behind', 'standing_on']\n"
     ]
    }
   ],
   "source": [
    "# Clevrer\n",
    "print(\"Clevrer\")\n",
    "dataset_with_config_list = [\n",
    "    'clevrer/3_new_udfs_labels/num_missing_udfs=3/ninterp=10-nparams=5-kwargs=True-pixels=True-pretrained_models=False-ntrain_distill=100-nselection_samples=500-selection=both-labels=user-budget=20-llm_method=gpt4v'\n",
    "]\n",
    "main(dataset_with_config_list)\n",
    "\n",
    "# CityFlow\n",
    "print(\"CityFlow\")\n",
    "dataset_with_config_list = [\n",
    "    'cityflow/unavailable_pred=1-unavailable_attr_pred=1-npred=1-nattr_pred=2-nvars=3-depth=3-max_duration=15-min_npos=74-max_npos=737/num_missing_udfs=2/ninterp=10-nparams=5-kwargs=True-pixels=False-pretrained_models=False-ntrain_distill=500-nselection_samples=500-selection=both-labels=user-budget=50-llm_method=gpt4v',\n",
    "    'cityflow/unavailable_pred=1-unavailable_attr_pred=1-npred=2-nattr_pred=2-nvars=3-depth=3-max_duration=15-min_npos=74-max_npos=737/num_missing_udfs=2/ninterp=10-nparams=5-kwargs=True-pixels=False-pretrained_models=False-ntrain_distill=500-nselection_samples=500-selection=both-labels=user-budget=50-llm_method=gpt4v',\n",
    "]\n",
    "main(dataset_with_config_list)\n",
    "\n",
    "# Charades\n",
    "print(\"Charades\")\n",
    "dataset_with_config_list = [\n",
    "    'charades/unavailable=2-npred=3-nobj_pred=1-nvars=2-depth=2/num_missing_udfs=2/ninterp=10-nparams=5-kwargs=True-pixels=False-pretrained_models=False-ntrain_distill=500-nselection_samples=500-selection=both-labels=user-budget=50-llm_method=gpt4v',\n",
    "    'charades/unavailable=2-npred=4-nobj_pred=1-nvars=2-depth=2/num_missing_udfs=2/ninterp=10-nparams=5-kwargs=True-pixels=False-pretrained_models=False-ntrain_distill=500-nselection_samples=500-selection=both-labels=user-budget=50-llm_method=gpt4v',\n",
    "    'charades/unavailable=2-npred=4-nobj_pred=1-nvars=3-depth=2/num_missing_udfs=2/ninterp=10-nparams=5-kwargs=True-pixels=False-pretrained_models=False-ntrain_distill=500-nselection_samples=500-selection=both-labels=user-budget=50-llm_method=gpt4v'\n",
    "]\n",
    "main(dataset_with_config_list)"
   ]
  }
 ],
 "metadata": {
  "kernelspec": {
   "display_name": "jupyter",
   "language": "python",
   "name": "python3"
  },
  "language_info": {
   "codemirror_mode": {
    "name": "ipython",
    "version": 3
   },
   "file_extension": ".py",
   "mimetype": "text/x-python",
   "name": "python",
   "nbconvert_exporter": "python",
   "pygments_lexer": "ipython3",
   "version": "3.11.3"
  }
 },
 "nbformat": 4,
 "nbformat_minor": 2
}
