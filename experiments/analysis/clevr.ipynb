{
 "cells": [
  {
   "cell_type": "code",
   "execution_count": 1,
   "metadata": {},
   "outputs": [],
   "source": [
    "import json\n",
    "import yaml\n",
    "import os\n",
    "import numpy as np\n",
    "\n",
    "config = yaml.safe_load(open(\"/gscratch/balazinska/enhaoz/VOCAL-UDF/configs/config.yaml\", \"r\"))"
   ]
  },
  {
   "cell_type": "code",
   "execution_count": 16,
   "metadata": {},
   "outputs": [
    {
     "name": "stdout",
     "output_type": "stream",
     "text": [
      "1 4\n",
      "task_0_new_udfs_mean_accuracy: 0.8631973333333335\n",
      "task_0_new_udfs_mean_f1: 0.6192898766954091\n",
      "task_0_new_udfs_mean_precision: 0.621786854684621\n",
      "task_0_new_udfs_mean_recall: 0.7265138743239781\n",
      "task_0_new_udfs_prob_failures: 0.02\n",
      "\n",
      "task_1_new_udfs_mean_accuracy: 0.8235960000000001\n",
      "task_1_new_udfs_mean_f1: 0.20628178243492123\n",
      "task_1_new_udfs_mean_precision: 0.21059127122499313\n",
      "task_1_new_udfs_mean_recall: 0.24479415607390273\n",
      "task_1_new_udfs_prob_failures: 0.62\n",
      "\n",
      "task_2_new_udfs_mean_accuracy: 0.78328\n",
      "task_2_new_udfs_mean_f1: 0.0\n",
      "task_2_new_udfs_mean_precision: 0.0\n",
      "task_2_new_udfs_mean_recall: 0.0\n",
      "task_2_new_udfs_prob_failures: 1.0\n",
      "\n",
      "task_3_new_udfs_mean_accuracy: 0.8365533333333333\n",
      "task_3_new_udfs_mean_f1: 0.0\n",
      "task_3_new_udfs_mean_precision: 0.0\n",
      "task_3_new_udfs_mean_recall: 0.0\n",
      "task_3_new_udfs_prob_failures: 1.0\n",
      "\n"
     ]
    }
   ],
   "source": [
    "tasks = [f\"{i}_new_udfs\" for i in range(4)]\n",
    "for task in tasks:\n",
    "    accuracy_list = []\n",
    "    f1_list = []\n",
    "    precision_list = []\n",
    "    recall_list = []\n",
    "    failed_list = []\n",
    "    for run_id in range(5):\n",
    "        for question_id in range(10):\n",
    "            with open(os.path.join(config['output_dir'], \"clevr\", f\"task_{task}_labels_run_{run_id}_question_{question_id}.json\"), \"r\") as f:\n",
    "                data = json.load(f)\n",
    "            # \"accuracy\": 0.9329333333333333, \"f1\": 0.7679889298892989, \"precision\": 0.8169774288518155, \"recall\": 0.7245430809399478, \"failed\": 0\n",
    "            accuracy_list.append(data[\"accuracy\"])\n",
    "            f1_list.append(data[\"f1\"])\n",
    "            precision_list.append(data[\"precision\"])\n",
    "            recall_list.append(data[\"recall\"])\n",
    "            failed_list.append(data[\"failed\"])\n",
    "            if '0' in task and data[\"failed\"] > 0:\n",
    "                print(run_id, question_id)\n",
    "    print(f\"task_{task}_mean_accuracy: {np.mean(accuracy_list)}\")\n",
    "    print(f\"task_{task}_mean_f1: {np.mean(f1_list)}\")\n",
    "    print(f\"task_{task}_mean_precision: {np.mean(precision_list)}\")\n",
    "    print(f\"task_{task}_mean_recall: {np.mean(recall_list)}\")\n",
    "    print(f\"task_{task}_prob_failures: {np.mean(failed_list) / 15000}\")\n",
    "    print()"
   ]
  },
  {
   "cell_type": "code",
   "execution_count": 9,
   "metadata": {},
   "outputs": [
    {
     "name": "stdout",
     "output_type": "stream",
     "text": [
      "OBJ0=LOC(image=IMAGE,object='object')\n",
      "OBJ1=OBJECT(object=OBJ0)\n",
      "OBJ2=BIG(object=OBJ0)\n",
      "OBJ3=OBJECT(object=OBJ2)\n",
      "REL1=EQUALMATERIAL(object1=OBJ1,object2=OBJ3)\n",
      "REL2=LEFTOF(object1=OBJ1,object2=OBJ2)\n",
      "REL3=FRONTOF(object1=OBJ1,object2=OBJ3)\n",
      "REL4=LEFTOF(object1=OBJ3,object2=OBJ1)\n",
      "ANSWER0=EVAL(expr=\"'yes' if len({OBJ1}) and len({OBJ2}) and len({OBJ3}) and len({REL1}) and len({REL2}) and len({REL3}) and len({REL4}) else 'no'\")\n",
      "FINAL_RESULT=RESULT(var=ANSWER0)\n"
     ]
    }
   ],
   "source": []
  },
  {
   "cell_type": "code",
   "execution_count": null,
   "metadata": {},
   "outputs": [],
   "source": []
  }
 ],
 "metadata": {
  "kernelspec": {
   "display_name": "Python 3",
   "language": "python",
   "name": "python3"
  },
  "language_info": {
   "codemirror_mode": {
    "name": "ipython",
    "version": 3
   },
   "file_extension": ".py",
   "mimetype": "text/x-python",
   "name": "python",
   "nbconvert_exporter": "python",
   "pygments_lexer": "ipython3",
   "version": "3.11.3"
  }
 },
 "nbformat": 4,
 "nbformat_minor": 2
}
